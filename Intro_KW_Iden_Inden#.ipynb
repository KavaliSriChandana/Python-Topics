{
 "cells": [
  {
   "cell_type": "code",
   "execution_count": null,
   "id": "dadfc7fa-a71d-433d-b233-497cb5978a63",
   "metadata": {},
   "outputs": [],
   "source": [
    "\"\"\" \n",
    "-What is Python?\n",
    "Python is a popular programming language. It was created by Guido van Rossum, and released in 1991.\n",
    "\n",
    "Python is a high-level, interpreted, interactive and object-oriented scripting language.\n",
    "Python is designed to be highly readable.\n",
    "It uses English keywords frequently where as other languages use punctuation, and has fewer syntactical constructions than other languages.\n",
    "\n",
    ".Python is Interpreted − Python is processed at runtime by the interpreter. You do not need to compile your program before executing it. This is similar to PERL and PHP.\n",
    ".Python is Interactive − You can actually sit at a Python prompt and interact with the interpreter directly to write your programs.\n",
    ".Python is Object-Oriented − Python supports Object-Oriented style or technique of programming that encapsulates code within objects.\n",
    ".Python is a Beginner's Language\n",
    "\n",
    "-Interpreter Works in interactive and scripted mode. Python code is executed by one statement at a time method.\n",
    "Python interpreter has two components. The translator checks the statement for syntax. If found correct, it generates an intermediate byte code.\n",
    "There is a Python virtual machine which then converts the byte code in native binary and executes it.\n",
    "\n",
    "-It is used for:\n",
    "web development (server-side),\n",
    "software development,\n",
    "mathematics,\n",
    "system scripting.\n",
    "\n",
    "Python is a case sensitive\n",
    "\n",
    "\"\"\""
   ]
  },
  {
   "cell_type": "code",
   "execution_count": null,
   "id": "6a422436-2447-4a25-b06a-45c4e5435b2f",
   "metadata": {},
   "outputs": [],
   "source": [
    "\"\"\"\n",
    "-What can Python do?\n",
    "\n",
    "Python can be used on a server to create web applications.\n",
    "Python can be used alongside software to create workflows.\n",
    "Python can connect to database systems. It can also read and modify files.\n",
    "Python can be used to handle big data and perform complex mathematics.\n",
    "Python can be used for rapid prototyping, or for production-ready software development.\n",
    "\n",
    "\"\"\""
   ]
  },
  {
   "cell_type": "code",
   "execution_count": null,
   "id": "556bda8c-b402-4da1-a07a-0a5cf6515639",
   "metadata": {},
   "outputs": [],
   "source": [
    "\"\"\"\n",
    "-Why Python?\n",
    "\n",
    "Python works on different platforms (Windows, Mac, Linux, Raspberry Pi, etc).\n",
    "Python has a simple syntax similar to the English language.\n",
    "Python has syntax that allows developers to write programs with fewer lines than some other programming languages.\n",
    "Python runs on an interpreter system, meaning that code can be executed as soon as it is written. This means that prototyping can be very quick.\n",
    "Python can be treated in a procedural way, an object-oriented way or a functional way.\n",
    "\n",
    "-Python syntax compared to other languages\n",
    "Python was designed for readability, and has some similarities to the English language with influence from mathematics.\n",
    "Python uses new lines to complete a command, as opposed to other programming languages which often use semicolons or parentheses.\n",
    "Python relies on indentation, using whitespace, to define scope; such as the scope of loops, functions and classes.\n",
    "Other programming languages often use curly-brackets for this purpose\n",
    "\n",
    "\"\"\""
   ]
  },
  {
   "cell_type": "code",
   "execution_count": null,
   "id": "39920c1c-f1a9-4687-b44b-e2b53007cda3",
   "metadata": {},
   "outputs": [],
   "source": [
    "\"\"\"\n",
    "-Python SYNTAX\n",
    "Syntax defines a set of rules that are used to create a Python Program."
   ]
  },
  {
   "cell_type": "code",
   "execution_count": null,
   "id": "5aa52140-3975-4ae4-bf20-a78ce79ff81c",
   "metadata": {},
   "outputs": [],
   "source": [
    "\"\"\"\n",
    "-KEYWORDS\n",
    "Keywords in Python are reserved words that cannot be used as ordinary identifiers.\n",
    "They are used to define the syntax and structure of the Python language.\n",
    ".Keywords are immutable.\n",
    ".Keywords are case-sensitive\n",
    "\n",
    "\"\"\""
   ]
  },
  {
   "cell_type": "code",
   "execution_count": 2,
   "id": "805b81d3-784a-442d-a984-d7498dc79cb0",
   "metadata": {},
   "outputs": [
    {
     "name": "stdout",
     "output_type": "stream",
     "text": [
      "['False', 'None', 'True', 'and', 'as', 'assert', 'async', 'await', 'break', 'class', 'continue', 'def', 'del', 'elif', 'else', 'except', 'finally', 'for', 'from', 'global', 'if', 'import', 'in', 'is', 'lambda', 'nonlocal', 'not', 'or', 'pass', 'raise', 'return', 'try', 'while', 'with', 'yield']\n"
     ]
    }
   ],
   "source": [
    "#pip install keyword\n",
    "import keyword\n",
    "print(keyword.kwlist)"
   ]
  },
  {
   "cell_type": "code",
   "execution_count": 8,
   "id": "825d232d-b77e-4317-835b-a6a529c336f0",
   "metadata": {},
   "outputs": [
    {
     "ename": "SyntaxError",
     "evalue": "invalid syntax (3963200833.py, line 1)",
     "output_type": "error",
     "traceback": [
      "\u001b[0;36m  Cell \u001b[0;32mIn [8], line 1\u001b[0;36m\u001b[0m\n\u001b[0;31m    if=10\u001b[0m\n\u001b[0m      ^\u001b[0m\n\u001b[0;31mSyntaxError\u001b[0m\u001b[0;31m:\u001b[0m invalid syntax\n"
     ]
    }
   ],
   "source": [
    "if=10"
   ]
  },
  {
   "cell_type": "code",
   "execution_count": 5,
   "id": "919a0ad3-b964-41ed-a5ff-a6f4ad43f05f",
   "metadata": {},
   "outputs": [
    {
     "name": "stdout",
     "output_type": "stream",
     "text": [
      "16 52\n"
     ]
    }
   ],
   "source": [
    "If=52\n",
    "none=16\n",
    "print(none, If)"
   ]
  },
  {
   "cell_type": "code",
   "execution_count": 9,
   "id": "0749a848-2ca8-4ca2-bab2-7dfb996441ca",
   "metadata": {},
   "outputs": [
    {
     "ename": "SyntaxError",
     "evalue": "invalid syntax (138942673.py, line 3)",
     "output_type": "error",
     "traceback": [
      "\u001b[0;36m  Cell \u001b[0;32mIn [9], line 3\u001b[0;36m\u001b[0m\n\u001b[0;31m    class = 10     # 'class' is a reserved keyword\u001b[0m\n\u001b[0m          ^\u001b[0m\n\u001b[0;31mSyntaxError\u001b[0m\u001b[0;31m:\u001b[0m invalid syntax\n"
     ]
    }
   ],
   "source": [
    "# Incorrect use of keywords as variable names\n",
    "\n",
    "class = 10     # 'class' is a reserved keyword\n",
    "return = 5     # 'return' is a reserved keyword\n",
    "if = \"hello\"   # 'if' is a reserved keyword\n",
    "else = 3.14    # 'else' is a reserved keyword\n",
    "\n",
    "print(class, return, if, else)"
   ]
  },
  {
   "cell_type": "code",
   "execution_count": 14,
   "id": "29b8717f-4830-4e70-abff-0ab110b49bc4",
   "metadata": {},
   "outputs": [
    {
     "name": "stdout",
     "output_type": "stream",
     "text": [
      "10 5 hello 3.14\n"
     ]
    }
   ],
   "source": [
    "# Correct use of keywords as variable names\n",
    "\n",
    "class_no = 10     # 'class' is a reserved keyword\n",
    "return_value = 5     # 'return' is a reserved keyword\n",
    "If = \"hello\"   # 'if' is a reserved keyword\n",
    "Else = 3.14    # 'else' is a reserved keyword\n",
    "\n",
    "print(class_no, return_value, If, Else)"
   ]
  },
  {
   "cell_type": "code",
   "execution_count": null,
   "id": "3ab8d21e-0641-490c-9970-16ab81af210d",
   "metadata": {},
   "outputs": [],
   "source": []
  },
  {
   "cell_type": "code",
   "execution_count": null,
   "id": "6922cde6-515a-43e0-a3e0-8d6663439c1e",
   "metadata": {},
   "outputs": [],
   "source": [
    "\"\"\"\n",
    "-IDENTIFIERS\n",
    "An identifier is a name given to entities like class, functions, variables, etc. It helps to differentiate one entity from another.\n",
    "\n",
    ".Identifiers can be a combination of letters in lowercase (a to z) or uppercase (A to Z) or digits (0 to 9) or an underscore (_).\n",
    ".They must start with a letter or the underscore character, but not with a digit.\n",
    ".(Case sensitive)Identifiers in python are case-sensitive. For example: myVariable, myvariable are two different identifier.\n",
    ".Identifiers cannot have special characters such as !,@,#,$,%,etc.\n",
    ".Python keywords cannot be used as identifiers.\n",
    ".(Unlimited Length)Python does not put any restriction on the length of the identifier. However, it is recommended to keep it within a reasonable size,\n",
    "                  to maintain readability and simplicity in the code.\n",
    ".(Private Identifiers)In Python, if the identifier starts with a single underscore, it indicates that it is a non-public part of the class, module, or function i.e private identifier.\n",
    "                     This is just a convention and Python doesn't enforce it.\n",
    "                     If it starts with two underscores, it's a strongly private identifier.\n",
    "                     If the identifier also ends with two trailing underscores, the identifier is a language-defined special name.\n",
    "                     Python Class names start with an uppercase letter. All other identifiers start with a lowercase letter.\n",
    ".(Non-ASCII Identifiers)Python 3 allows the use of non-ASCII letters in the identifiers. This means you can use letters like é, à, ö, ñ, etc, in your identifiers if you wish."
   ]
  },
  {
   "cell_type": "code",
   "execution_count": 3,
   "id": "d2a60b74-2744-4aeb-baeb-df67d40941c0",
   "metadata": {},
   "outputs": [
    {
     "name": "stdout",
     "output_type": "stream",
     "text": [
      "20 10\n"
     ]
    }
   ],
   "source": [
    "marks =    10\n",
    "MARKS=20\n",
    "print(   MARKS  , marks   )"
   ]
  },
  {
   "cell_type": "code",
   "execution_count": 5,
   "id": "d54e052b-5249-41cf-a922-57b4c0f9a905",
   "metadata": {},
   "outputs": [
    {
     "ename": "SyntaxError",
     "evalue": "invalid decimal literal (2590238559.py, line 1)",
     "output_type": "error",
     "traceback": [
      "\u001b[0;36m  Cell \u001b[0;32mIn [5], line 1\u001b[0;36m\u001b[0m\n\u001b[0;31m    9marks=10\u001b[0m\n\u001b[0m    ^\u001b[0m\n\u001b[0;31mSyntaxError\u001b[0m\u001b[0;31m:\u001b[0m invalid decimal literal\n"
     ]
    }
   ],
   "source": [
    "9marks=10        # error\n",
    "print(9marks)\n",
    "_9marks=10       # no error Since starting with _\n",
    "print(_9marks)"
   ]
  },
  {
   "cell_type": "code",
   "execution_count": 6,
   "id": "382a4e65-e2a9-4db1-baff-7a2731aa0417",
   "metadata": {},
   "outputs": [
    {
     "ename": "SyntaxError",
     "evalue": "invalid syntax (3439226245.py, line 1)",
     "output_type": "error",
     "traceback": [
      "\u001b[0;36m  Cell \u001b[0;32mIn [6], line 1\u001b[0;36m\u001b[0m\n\u001b[0;31m    &roll=52\u001b[0m\n\u001b[0m    ^\u001b[0m\n\u001b[0;31mSyntaxError\u001b[0m\u001b[0;31m:\u001b[0m invalid syntax\n"
     ]
    }
   ],
   "source": [
    "&roll=52\n",
    "print(&roll)"
   ]
  },
  {
   "cell_type": "code",
   "execution_count": 12,
   "id": "3b72d890-5f17-4e3d-a1b3-0384ec3ee01b",
   "metadata": {},
   "outputs": [
    {
     "ename": "SyntaxError",
     "evalue": "invalid syntax (708429786.py, line 4)",
     "output_type": "error",
     "traceback": [
      "\u001b[0;36m  Cell \u001b[0;32mIn [12], line 4\u001b[0;36m\u001b[0m\n\u001b[0;31m    return=1\u001b[0m\n\u001b[0m          ^\u001b[0m\n\u001b[0;31mSyntaxError\u001b[0m\u001b[0;31m:\u001b[0m invalid syntax\n"
     ]
    }
   ],
   "source": [
    "return30=123\n",
    "Return=2\n",
    "print(return30,Return)   # no error OP: 123 2\n",
    "return=1\n",
    "print(return)            # error Since return is a keyword"
   ]
  },
  {
   "cell_type": "code",
   "execution_count": 10,
   "id": "d5b88df8-618d-4085-861d-26b797e032bc",
   "metadata": {},
   "outputs": [
    {
     "ename": "SyntaxError",
     "evalue": "invalid decimal literal (970061274.py, line 3)",
     "output_type": "error",
     "traceback": [
      "\u001b[0;36m  Cell \u001b[0;32mIn [10], line 3\u001b[0;36m\u001b[0m\n\u001b[0;31m    1variable = 10      # Identifier starts with a digit\u001b[0m\n\u001b[0m    ^\u001b[0m\n\u001b[0;31mSyntaxError\u001b[0m\u001b[0;31m:\u001b[0m invalid decimal literal\n"
     ]
    }
   ],
   "source": [
    "# Incorrect use of identifiers\n",
    "\n",
    "1variable = 10      # Identifier starts with a digit\n",
    "$second = 20        # Identifier contains special character\n",
    "third variable = 30 # Identifier contains a space\n",
    "for = 40            # Identifier is a reserved keyword\n",
    "\n",
    "print(1variable, $second, third variable, for)"
   ]
  },
  {
   "cell_type": "code",
   "execution_count": 11,
   "id": "f45ca68b-7db2-46ca-aea8-a8597ec01a29",
   "metadata": {},
   "outputs": [
    {
     "name": "stdout",
     "output_type": "stream",
     "text": [
      "10 20 30 40\n"
     ]
    }
   ],
   "source": [
    "# Correct use of identifiers\n",
    "\n",
    "variable1 = 10\n",
    "second_variable = 20\n",
    "third_variable = 30\n",
    "variable_for = 40\n",
    "\n",
    "print(variable1, second_variable, third_variable, variable_for)"
   ]
  },
  {
   "cell_type": "code",
   "execution_count": null,
   "id": "d8148be7-ced0-4aaf-b08f-71967499915b",
   "metadata": {},
   "outputs": [],
   "source": []
  },
  {
   "cell_type": "code",
   "execution_count": null,
   "id": "3d07ceb4-e238-4eea-ae11-6440f707351c",
   "metadata": {},
   "outputs": [],
   "source": [
    "\"\"\"\n",
    "-Python Indentation\n",
    "\n",
    ".Indentation refers to the spaces at the beginning of a code line.\n",
    ".As python programming provides no braces to indicate blocks of code for class and function definitions or flow control.\n",
    "Blocks of code are denoted by line indentation, which is rigidly enforced.\n",
    "Where in other programming languages the indentation in code is for readability only, the indentation in Python is very important.\n",
    "Python uses indentation to indicate a block of code.\n",
    "\n",
    ".Space Usage: Python uses indentation to define the scope of loops, functions, classes, etc. \n",
    "The standard practice is to use four spaces for each level of indentation, but you can use any number of spaces,\n",
    "as long as the indentation is consistent within a block of code.\n",
    "\n",
    ".Colon(:) : Usually a colon (:) at the end of the line is followed by an indented block of code.\n",
    "This is common with structures like if, for, while, def, class, etc.\n",
    "\"\"\""
   ]
  },
  {
   "cell_type": "code",
   "execution_count": 18,
   "id": "6834d347-5fe4-4e52-86df-92c3aa242c4f",
   "metadata": {},
   "outputs": [
    {
     "name": "stdout",
     "output_type": "stream",
     "text": [
      "Five is greater than two!\n"
     ]
    }
   ],
   "source": [
    "if 5 > 2:\n",
    "  print(\"Five is greater than two!\")"
   ]
  },
  {
   "cell_type": "code",
   "execution_count": 19,
   "id": "c6507787-95bb-4ae8-9e36-5dce16a69cf6",
   "metadata": {},
   "outputs": [
    {
     "ename": "IndentationError",
     "evalue": "expected an indented block after 'if' statement on line 1 (3793329317.py, line 2)",
     "output_type": "error",
     "traceback": [
      "\u001b[0;36m  Cell \u001b[0;32mIn [19], line 2\u001b[0;36m\u001b[0m\n\u001b[0;31m    print(\"Five is greater than two!\")\u001b[0m\n\u001b[0m    ^\u001b[0m\n\u001b[0;31mIndentationError\u001b[0m\u001b[0;31m:\u001b[0m expected an indented block after 'if' statement on line 1\n"
     ]
    }
   ],
   "source": [
    "# Python will give you an error if you skip the indentation\n",
    "if 5 > 2:\n",
    "print(\"Five is greater than two!\")"
   ]
  },
  {
   "cell_type": "code",
   "execution_count": 20,
   "id": "72bf4bec-63cf-44ef-a08c-423f34e38e36",
   "metadata": {},
   "outputs": [
    {
     "name": "stdout",
     "output_type": "stream",
     "text": [
      "Five is greater than two!\n",
      "Five is greater than two!\n"
     ]
    }
   ],
   "source": [
    "#The number of spaces is up to you as a programmer, the most common use is four, but it has to be at least one.\n",
    "if 5 > 2:\n",
    " print(\"Five is greater than two!\") \n",
    "if 5 > 2:\n",
    "        print(\"Five is greater than two!\")"
   ]
  },
  {
   "cell_type": "code",
   "execution_count": 17,
   "id": "5a848db1-28a6-452d-a010-9a4ff399eb99",
   "metadata": {},
   "outputs": [
    {
     "ename": "IndentationError",
     "evalue": "unexpected indent (2381834817.py, line 11)",
     "output_type": "error",
     "traceback": [
      "\u001b[0;36m  Cell \u001b[0;32mIn [17], line 11\u001b[0;36m\u001b[0m\n\u001b[0;31m    print (\"False\")\u001b[0m\n\u001b[0m    ^\u001b[0m\n\u001b[0;31mIndentationError\u001b[0m\u001b[0;31m:\u001b[0m unexpected indent\n"
     ]
    }
   ],
   "source": [
    "#The number of spaces in the indentation is variable, but all statements within the block must be indented the same amount.\n",
    "if True:\n",
    "   print (\"True\")       # no error\n",
    "else:\n",
    "   print (\"False\")      # no error\n",
    "if True:\n",
    " print (\"Answer\")       # no error\n",
    " print (\"True\")         # no error\n",
    "else:\n",
    " print (\"Answer\")       # no error\n",
    "  print (\"False\")       # error Since different line spacing i.e You have to use the same number of spaces in the same block of code"
   ]
  },
  {
   "cell_type": "code",
   "execution_count": 15,
   "id": "da8ab907-1081-4568-af86-ef8fb6aac8d3",
   "metadata": {},
   "outputs": [
    {
     "name": "stdout",
     "output_type": "stream",
     "text": [
      "This is True!\n",
      "0\n",
      "1\n",
      "2\n"
     ]
    }
   ],
   "source": [
    "''' # Incorrect use of indentation\n",
    "\n",
    "if True:\n",
    "print(\"This is True!\") # Error: expected an indented block\n",
    "\n",
    "for i in range(3):\n",
    "print(i) # Error: expected an indented block\n",
    "\n",
    "def hello():\n",
    "print(\"Hello, World!\") # Error: expected an indented block\n",
    "\n",
    "while False:\n",
    "print(\"This won't print\") # Error: expected an indented block\n",
    "'''\n",
    "# Correct use of indentation\n",
    "\n",
    "if True:\n",
    "    print(\"This is True!\") # Error: expected an indented block\n",
    "\n",
    "for i in range(3):\n",
    "    print(i) # Error: expected an indented block\n",
    "\n",
    "def hello():\n",
    "    print(\"Hello, World!\") # Error: expected an indented block\n",
    "\n",
    "while False:\n",
    "    print(\"This won't print\") # Error: expected an indented block"
   ]
  },
  {
   "cell_type": "code",
   "execution_count": 49,
   "id": "5f2c986b-55c8-4cde-ae81-cd8dbd456330",
   "metadata": {},
   "outputs": [
    {
     "name": "stdout",
     "output_type": "stream",
     "text": [
      "word\n",
      "This is a sentence.\n",
      "This is a paragraph. It is\n",
      " made up of multiple lines and sentences.\n"
     ]
    }
   ],
   "source": [
    "'''\n",
    "-Quotations in Python '''\n",
    "# Python accepts single('),double(\") & triple('''or\"\"\") quotes to denote string literals, as long as the same type of quote starts & ends the string.\n",
    "# The triple quotes are used to span the string across multiple lines.\n",
    "\n",
    "word = 'word'\n",
    "print (word)\n",
    "\n",
    "sentence = \"This is a sentence.\"\n",
    "print (sentence)\n",
    "\n",
    "paragraph = \"\"\"This is a paragraph. It is\n",
    " made up of multiple lines and sentences.\"\"\"\n",
    "print (paragraph)\n"
   ]
  },
  {
   "cell_type": "code",
   "execution_count": 50,
   "id": "b34804f6-e5c0-42c7-b224-948d5f5f35d9",
   "metadata": {},
   "outputs": [
    {
     "ename": "SyntaxError",
     "evalue": "unterminated string literal (detected at line 1) (3216090575.py, line 1)",
     "output_type": "error",
     "traceback": [
      "\u001b[0;36m  Cell \u001b[0;32mIn [50], line 1\u001b[0;36m\u001b[0m\n\u001b[0;31m    sentence = \"This is a sentence.'\u001b[0m\n\u001b[0m               ^\u001b[0m\n\u001b[0;31mSyntaxError\u001b[0m\u001b[0;31m:\u001b[0m unterminated string literal (detected at line 1)\n"
     ]
    }
   ],
   "source": [
    "sentence = \"This is a sentence.'\n",
    "print (sentence)"
   ]
  },
  {
   "cell_type": "code",
   "execution_count": 52,
   "id": "5412b8f6-cefa-4866-9f1c-9300a9355847",
   "metadata": {},
   "outputs": [
    {
     "name": "stdout",
     "output_type": "stream",
     "text": [
      "5 10 Hello, Everyone!\n"
     ]
    }
   ],
   "source": [
    "num1 = 5\n",
    "_value = 10\n",
    "text_string = 'Hello, Everyone!'\n",
    "print(num1, _value, text_string)"
   ]
  },
  {
   "cell_type": "code",
   "execution_count": 53,
   "id": "98f742de-7dd4-41ff-9193-829c0fb4fdd8",
   "metadata": {},
   "outputs": [
    {
     "name": "stdout",
     "output_type": "stream",
     "text": [
      "30\n"
     ]
    }
   ],
   "source": [
    "_1a = 10\n",
    "_1b = 20\n",
    "c = _1a + _1b\n",
    "print(c)"
   ]
  },
  {
   "cell_type": "code",
   "execution_count": 54,
   "id": "6998e5f6-2e38-4814-8dee-361cec5cffe9",
   "metadata": {},
   "outputs": [
    {
     "name": "stdout",
     "output_type": "stream",
     "text": [
      "lowercase UPPERCASE\n"
     ]
    }
   ],
   "source": [
    "my_var = 'lowercase'\n",
    "MY_VAR = 'UPPERCASE'\n",
    "print(my_var, MY_VAR)"
   ]
  },
  {
   "cell_type": "code",
   "execution_count": null,
   "id": "39db6578-fd94-4675-ba18-7d3555ad363c",
   "metadata": {},
   "outputs": [],
   "source": [
    "\"\"\"\n",
    "-COMMENTS\n",
    "A comment is a programmer-readable explanation or annotation in the Python source code that is not executed.\n",
    "Comments are used for explaining the code and make the source code easier for humans to understand. The Python interpreter ignores them.\n",
    "\n",
    "\"\"\""
   ]
  },
  {
   "cell_type": "code",
   "execution_count": 3,
   "id": "c6d0db9a-6f66-4411-8946-74102bb5f360",
   "metadata": {},
   "outputs": [
    {
     "name": "stdout",
     "output_type": "stream",
     "text": [
      "11\n"
     ]
    }
   ],
   "source": [
    "'''\n",
    "Single Line Comments : Hash (#) is used for single line comments. # that is not inside a string literal begins a comment.\n",
    "All characters after the # and up to the end of the physical line are part of the comment and the Python interpreter ignores them.\n",
    "'''\n",
    "#Add to Numbers\n",
    "#Value of a is 5\n",
    "a=5 \n",
    "#Value of b is 6\n",
    "b=6  \n",
    "c=a+b   #value of c is sum of a+b\n",
    "print(c)"
   ]
  },
  {
   "cell_type": "code",
   "execution_count": 2,
   "id": "f2089094-7aed-4b97-93aa-862f3f79b624",
   "metadata": {},
   "outputs": [
    {
     "name": "stdout",
     "output_type": "stream",
     "text": [
      "Hello, World!\n"
     ]
    }
   ],
   "source": [
    "# First comment# First comment\n",
    "print (\"Hello, World!\") # Second comment\n",
    "# This is a comment.\n",
    "# This is a comment, too.\n",
    "# This is a comment, too.\n",
    "# I said that already."
   ]
  },
  {
   "cell_type": "code",
   "execution_count": 14,
   "id": "3c2e39ca-fac5-4542-846d-a89f315854af",
   "metadata": {},
   "outputs": [],
   "source": [
    "# Multi line comments : Python doesn't have any specific syntax for multiple-line comments.\n",
    "#  Alteranatively, multiple strings use triple quotes('''or \"\"\")can be used as multi-line comments \n",
    "#  because any string not assigned to a variable is ignored in python.\n",
    "\n",
    "'''\n",
    "This is a multiline\n",
    "comment.\n",
    "'''"
   ]
  },
  {
   "cell_type": "code",
   "execution_count": 9,
   "id": "e4904fb3-95e2-4862-af71-926647f312d6",
   "metadata": {},
   "outputs": [],
   "source": [
    "'''\n",
    "Docstrings or documentation strings: Docstrings are a type of comment used to explain the purpose of a function or a class.\n",
    "They are created using triple quotes and are placed immediately after the definition of a function or a class. \n",
    "Docstrings can span multiple lines and are accessible at runtime using the .__doc__ attribute.\n",
    "\n",
    "'''\n",
    "# Docstring Example\n",
    "def add_numbers(a, b):\n",
    "    \"\"\"\n",
    "    This function adds two numbers and returns the result.\n",
    "    \n",
    "    Parameters:\n",
    "    a (int): The first number\n",
    "    b (int): The second number\n",
    "\n",
    "    Returns:\n",
    "    int: The sum of the two numbers\n",
    "    \"\"\"\n",
    "    return a + b"
   ]
  },
  {
   "cell_type": "code",
   "execution_count": 8,
   "id": "018b3b4d-fcc8-4c63-98ff-d66fa9817399",
   "metadata": {},
   "outputs": [
    {
     "name": "stdout",
     "output_type": "stream",
     "text": [
      "\n",
      "    This function adds two numbers and returns the result.\n",
      "    \n",
      "    Parameters:\n",
      "    a (int): The first number\n",
      "    b (int): The second number\n",
      "\n",
      "    Returns:\n",
      "    int: The sum of the two numbers\n",
      "    \n"
     ]
    }
   ],
   "source": [
    "print(add_numbers.__doc__)"
   ]
  },
  {
   "cell_type": "code",
   "execution_count": 17,
   "id": "aac994cd-5c54-423a-a936-22a33583b88b",
   "metadata": {},
   "outputs": [
    {
     "data": {
      "text/plain": [
       "'Here, \"\\n\\n\" is used to create two new lines before displaying the actual line. Once the user presses the key, the program ends.\\nThis is a nice trick to keep a console window open until the user is done with an application.'"
      ]
     },
     "execution_count": 17,
     "metadata": {},
     "output_type": "execute_result"
    }
   ],
   "source": [
    "'''\n",
    "-Using Blank Lines in Python Programs\n",
    "A line containing only whitespace, possibly with a comment, is known as a blank line and Python totally ignores it.\n",
    "\n",
    "In an interactive interpreter session, you must enter an empty physical line to terminate a multiline statement.\n",
    "\n",
    "-Waiting for the User\n",
    "The following line of the program displays the prompt, the statement saying “Press the enter key to exit”,\n",
    "and waits for the user to take action −\n",
    "'''\n",
    "#!/usr/bin/python\n",
    "\n",
    "def raw_input():\n",
    "    raw_input(\"\\n\\nPress the enter key to exit.\")\n",
    "'''Here, \"\\n\\n\" is used to create two new lines before displaying the actual line. Once the user presses the key, the program ends.\n",
    "This is a nice trick to keep a console window open until the user is done with an application.'''"
   ]
  },
  {
   "cell_type": "code",
   "execution_count": 18,
   "id": "efec3fac-1833-4e95-8e63-9d8c30848de6",
   "metadata": {},
   "outputs": [
    {
     "name": "stdout",
     "output_type": "stream",
     "text": [
      "foo\n"
     ]
    },
    {
     "data": {
      "text/plain": [
       "4"
      ]
     },
     "execution_count": 18,
     "metadata": {},
     "output_type": "execute_result"
    }
   ],
   "source": [
    "'''\n",
    "-Multiple Statements on a Single Line\n",
    "The semicolon ( ; ) allows multiple statements on the single line given that neither statement starts a new code block. \n",
    "Here is a sample snip using the semicolon −\n",
    "'''\n",
    "import sys; x = 'foo'; sys.stdout.write(x + '\\n')"
   ]
  },
  {
   "cell_type": "code",
   "execution_count": 23,
   "id": "ed172734-48e8-4ddb-bb53-47e1de3e5890",
   "metadata": {},
   "outputs": [
    {
     "data": {
      "text/plain": [
       "'\\n-Multiple Statement Groups as Suites\\nA group of individual statements, which make a single code block are called suites in Python. \\nCompound or complex statements, such as if, while, def, and class require a header line and a suite.\\n\\n.Header lines begin the statement (with the keyword) and terminate with a colon ( : ) \\nand are followed by one or more lines which make up the suite. For example −\\n\\nif expression :\\n   suite\\nelif expression :\\n   suite\\nelse :\\n   suite\\n   \\n'"
      ]
     },
     "execution_count": 23,
     "metadata": {},
     "output_type": "execute_result"
    }
   ],
   "source": [
    "'''\n",
    "-Multiple Statement Groups as Suites\n",
    "A group of individual statements, which make a single code block are called suites in Python. \n",
    "Compound or complex statements, such as if, while, def, and class require a header line and a suite.\n",
    "\n",
    ".Header lines begin the statement (with the keyword) and terminate with a colon ( : ) \n",
    "and are followed by one or more lines which make up the suite. For example −\n",
    "\n",
    "if expression :\n",
    "   suite\n",
    "elif expression :\n",
    "   suite\n",
    "else :\n",
    "   suite\n",
    "   \n",
    "'''"
   ]
  },
  {
   "cell_type": "code",
   "execution_count": 27,
   "id": "b762e2ef-0e27-48f7-aa19-5b44f2a0a4c3",
   "metadata": {},
   "outputs": [
    {
     "data": {
      "text/plain": [
       "'\\n-Command Line Arguments in Python\\nMany programs can be run to provide you with some basic information about how they should be run. \\nPython enables you to do this with -h −\\n\\n$ python3 -h\\nusage: python3 [option] ... [-c cmd | -m mod | file | -] [arg] ...\\nOptions and arguments (and corresponding environment variables):\\n-c cmd : program passed in as string (terminates option list)\\n-d     : debug output from parser (also PYTHONDEBUG=x)\\n-E     : ignore environment variables (such as PYTHONPATH)\\n-h     : print this help message and exit\\n\\n[ etc. ]\\n\\n'"
      ]
     },
     "execution_count": 27,
     "metadata": {},
     "output_type": "execute_result"
    }
   ],
   "source": [
    "'''\n",
    "-Command Line Arguments in Python\n",
    "Many programs can be run to provide you with some basic information about how they should be run. \n",
    "Python enables you to do this with -h −\n",
    "\n",
    "$ python3 -h\n",
    "usage: python3 [option] ... [-c cmd | -m mod | file | -] [arg] ...\n",
    "Options and arguments (and corresponding environment variables):\n",
    "-c cmd : program passed in as string (terminates option list)\n",
    "-d     : debug output from parser (also PYTHONDEBUG=x)\n",
    "-E     : ignore environment variables (such as PYTHONPATH)\n",
    "-h     : print this help message and exit\n",
    "\n",
    "[ etc. ]\n",
    "\n",
    "'''"
   ]
  }
 ],
 "metadata": {
  "kernelspec": {
   "display_name": "Python 3 (ipykernel)",
   "language": "python",
   "name": "python3"
  },
  "language_info": {
   "codemirror_mode": {
    "name": "ipython",
    "version": 3
   },
   "file_extension": ".py",
   "mimetype": "text/x-python",
   "name": "python",
   "nbconvert_exporter": "python",
   "pygments_lexer": "ipython3",
   "version": "3.10.6"
  }
 },
 "nbformat": 4,
 "nbformat_minor": 5
}
