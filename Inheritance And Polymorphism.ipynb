{
 "cells": [
  {
   "cell_type": "markdown",
   "id": "a588ebf0-bf82-45d4-9576-ae888b1b5136",
   "metadata": {},
   "source": [
    "INHERITANCE"
   ]
  },
  {
   "cell_type": "code",
   "execution_count": 62,
   "id": "48760f70-daf8-425d-aa31-2cb7b0b45009",
   "metadata": {},
   "outputs": [
    {
     "name": "stdout",
     "output_type": "stream",
     "text": [
      "Name is : Chan\n",
      "Grade is : A\n",
      "Name is : Ram\n",
      "Subject:AI\n"
     ]
    }
   ],
   "source": [
    "class Person:\n",
    "    def __init__(self,name):\n",
    "        self.name=name\n",
    "\n",
    "    def display_info(self):\n",
    "        print(f\"Name is : {self.name}\")\n",
    "\n",
    "class Student(Person):\n",
    "    def __init__(self,name,grade):\n",
    "        super().__init__(name)               # super is a keyword to call parent\n",
    "        self.grade=grade\n",
    "\n",
    "    def display_info(self):\n",
    "        super().display_info()\n",
    "        print(f\"Grade is : {self.grade}\")\n",
    "\n",
    "student1=Student(\"Chan\",\"A\")\n",
    "student1.display_info()                          # op: Name is : Chan\n",
    "                                                 #     Grade is : A\n",
    "\n",
    "class Teacher(Person):\n",
    "    def __init__(self,name,subject):\n",
    "        super().__init__(name)\n",
    "        self.subject=subject\n",
    "\n",
    "    def display_info(self):\n",
    "        super().display_info()\n",
    "        print(f\"Subject:{self.subject}\")\n",
    "\n",
    "teacher1=Teacher(\"Ram\",\"AI\")\n",
    "teacher1.display_info()                          # op: name is Ram\n",
    "                                                 #     Subject:AI"
   ]
  },
  {
   "cell_type": "code",
   "execution_count": 63,
   "id": "1f2bb857-afa5-42e3-8c9c-1661d7692331",
   "metadata": {},
   "outputs": [
    {
     "name": "stdout",
     "output_type": "stream",
     "text": [
      "The Hero is starting\n",
      "The Hero Gear  is ready to go\n"
     ]
    }
   ],
   "source": [
    "# Create a Vehicle class with attributes brand and method start\n",
    "# create s child class Bicycle and Car additional info model and override the start method\n",
    "\n",
    "class Vehicle:\n",
    "    def __init__(self, brand):\n",
    "        self.brand=brand\n",
    "\n",
    "    def start(self):\n",
    "        print(f'The {self.brand} is starting')\n",
    "\n",
    "class Bicycle(Vehicle):\n",
    "    def __init__(self, brand, model):\n",
    "        super().__init__(brand)\n",
    "        self.model=model\n",
    "    def start(self):\n",
    "      super().start()\n",
    "      print(f'The {self.brand} {self.model}  is ready to go')\n",
    "\n",
    "bicycle=Bicycle(\"Hero\",\"Gear\")\n",
    "bicycle.start()"
   ]
  },
  {
   "cell_type": "code",
   "execution_count": 64,
   "id": "f51b1bb3-f19a-419e-ac69-c3e1dc4d27fa",
   "metadata": {},
   "outputs": [
    {
     "name": "stdout",
     "output_type": "stream",
     "text": [
      "The cat makes the Meow\n"
     ]
    }
   ],
   "source": [
    "# Base class representing an animal And attribute: name, method: sound\n",
    "\n",
    "class Animal():\n",
    "    def __init__(self,name):\n",
    "        self.name=name\n",
    "        \n",
    "class Sound(Animal):\n",
    "    def __init__(self,name,sound):\n",
    "        super().__init__(name)\n",
    "        self.sound=sound\n",
    "        print(f'The {self.name} makes the {self.sound}')\n",
    "\n",
    "animal1=Sound(\"cat\",'Meow')  "
   ]
  },
  {
   "cell_type": "code",
   "execution_count": 65,
   "id": "c18f69aa-583a-44db-9bb6-982bed4951a4",
   "metadata": {},
   "outputs": [],
   "source": [
    "class Animal:\n",
    "    def __init__(self, name):\n",
    "        self.name = name\n",
    "\n",
    "    def sound(self):\n",
    "        pass\n",
    "\n",
    "\n",
    "# Derived class representing a dog (hierarchical inheritance)\n",
    "class Dog(Animal):\n",
    "    def __init__(self, name):\n",
    "        super().__init__(name)\n",
    "\n",
    "    def sound(self):\n",
    "        print(f\"{self.name} barks.\")\n",
    "\n",
    "\n",
    "# Derived class representing a cat (hierarchical inheritance)\n",
    "class Cat(Animal):\n",
    "    def __init__(self, name):\n",
    "        super().__init__(name)\n",
    "\n",
    "    def sound(self):\n",
    "        print(f\"{self.name} meows.\")"
   ]
  },
  {
   "cell_type": "code",
   "execution_count": null,
   "id": "e415cee3-6358-402d-b486-09a0f445ee65",
   "metadata": {},
   "outputs": [],
   "source": []
  },
  {
   "cell_type": "markdown",
   "id": "f776a326-0f96-4a56-9210-82bafb12a69e",
   "metadata": {},
   "source": [
    "--\n",
    "\n",
    "ACCESS MODIFIERS"
   ]
  },
  {
   "cell_type": "markdown",
   "id": "97868ea6-01fd-4987-889d-32275c0559de",
   "metadata": {},
   "source": [
    "- Public Access Modifier: The members of a class that are declared public are easily accessible from any part of the program. \n",
    "All data members and member functions of a class are public by default."
   ]
  },
  {
   "cell_type": "code",
   "execution_count": 72,
   "id": "7da25d0a-fbfb-4fae-89a5-906ef5546b7a",
   "metadata": {},
   "outputs": [
    {
     "name": "stdout",
     "output_type": "stream",
     "text": [
      "the name is Chan and last name is Crusie\n"
     ]
    },
    {
     "data": {
      "text/plain": [
       "['__class__',\n",
       " '__delattr__',\n",
       " '__dict__',\n",
       " '__dir__',\n",
       " '__doc__',\n",
       " '__eq__',\n",
       " '__format__',\n",
       " '__ge__',\n",
       " '__getattribute__',\n",
       " '__getstate__',\n",
       " '__gt__',\n",
       " '__hash__',\n",
       " '__init__',\n",
       " '__init_subclass__',\n",
       " '__le__',\n",
       " '__lt__',\n",
       " '__module__',\n",
       " '__ne__',\n",
       " '__new__',\n",
       " '__reduce__',\n",
       " '__reduce_ex__',\n",
       " '__repr__',\n",
       " '__setattr__',\n",
       " '__sizeof__',\n",
       " '__str__',\n",
       " '__subclasshook__',\n",
       " '__weakref__',\n",
       " 'display',\n",
       " 'lastname',\n",
       " 'name']"
      ]
     },
     "execution_count": 72,
     "metadata": {},
     "output_type": "execute_result"
    }
   ],
   "source": [
    "class Personalinfo:\n",
    "  def __init__(self,name,lastname):\n",
    "    self.name=name\n",
    "    self.lastname=lastname\n",
    "\n",
    "  def displayinfo(self):\n",
    "    print(f\"the name is {self.name} and last name is {self.lastname}\")\n",
    "\n",
    "person=Personalinfo('Chan','Crusie')\n",
    "person.displayinfo()\n",
    "dir(person1)"
   ]
  },
  {
   "cell_type": "markdown",
   "id": "82b3636f-3fbd-4e77-bec2-81e67e565b5c",
   "metadata": {},
   "source": [
    "- Protected Access Modifier"
   ]
  },
  {
   "cell_type": "code",
   "execution_count": 25,
   "id": "9caadf6b-1d3c-4dd6-88b4-fbda39278f8c",
   "metadata": {},
   "outputs": [
    {
     "data": {
      "text/plain": [
       "['__class__',\n",
       " '__delattr__',\n",
       " '__dict__',\n",
       " '__dir__',\n",
       " '__doc__',\n",
       " '__eq__',\n",
       " '__format__',\n",
       " '__ge__',\n",
       " '__getattribute__',\n",
       " '__getstate__',\n",
       " '__gt__',\n",
       " '__hash__',\n",
       " '__init__',\n",
       " '__init_subclass__',\n",
       " '__le__',\n",
       " '__lt__',\n",
       " '__module__',\n",
       " '__ne__',\n",
       " '__new__',\n",
       " '__reduce__',\n",
       " '__reduce_ex__',\n",
       " '__repr__',\n",
       " '__setattr__',\n",
       " '__sizeof__',\n",
       " '__str__',\n",
       " '__subclasshook__',\n",
       " '__weakref__',\n",
       " '_display',\n",
       " '_name',\n",
       " '_rollno']"
      ]
     },
     "execution_count": 25,
     "metadata": {},
     "output_type": "execute_result"
    }
   ],
   "source": [
    "class Student():\n",
    "    def __init__(self,name,rollno):\n",
    "        # protected attributes\n",
    "        self._name= name\n",
    "        self._rollno= rollno\n",
    "\n",
    "    def _display(self):\n",
    "        print(f\" Name is {self._name} and roll number is {self._rollno}\")\n",
    "\n",
    "student=Student(\"Chan\",123)\n",
    "dir(student)"
   ]
  },
  {
   "cell_type": "code",
   "execution_count": 31,
   "id": "fb2d118f-69a5-43bb-b3a1-931d077d9b1b",
   "metadata": {},
   "outputs": [
    {
     "name": "stdout",
     "output_type": "stream",
     "text": [
      "Name is :chan\n",
      " Name is chan and roll number is 123\n",
      " Name is chan and roll number is 123\n"
     ]
    },
    {
     "data": {
      "text/plain": [
       "['__class__',\n",
       " '__delattr__',\n",
       " '__dict__',\n",
       " '__dir__',\n",
       " '__doc__',\n",
       " '__eq__',\n",
       " '__format__',\n",
       " '__ge__',\n",
       " '__getattribute__',\n",
       " '__getstate__',\n",
       " '__gt__',\n",
       " '__hash__',\n",
       " '__init__',\n",
       " '__init_subclass__',\n",
       " '__le__',\n",
       " '__lt__',\n",
       " '__module__',\n",
       " '__ne__',\n",
       " '__new__',\n",
       " '__reduce__',\n",
       " '__reduce_ex__',\n",
       " '__repr__',\n",
       " '__setattr__',\n",
       " '__sizeof__',\n",
       " '__str__',\n",
       " '__subclasshook__',\n",
       " '__weakref__',\n",
       " '_display',\n",
       " '_name',\n",
       " '_rollno',\n",
       " 'displaydetails']"
      ]
     },
     "execution_count": 31,
     "metadata": {},
     "output_type": "execute_result"
    }
   ],
   "source": [
    "class Genius(Student):\n",
    "    def __init__(self,name,rollno):\n",
    "        super().__init__(name, rollno)\n",
    "        \n",
    "    def displaydetails(self):\n",
    "        print(f\"Name is :{self._name}\")\n",
    "        self._display()\n",
    "\n",
    "genius1=Genius(\"chan\",123)\n",
    "genius1.displaydetails()\n",
    "genius1._display()\n",
    "dir(genius1)"
   ]
  },
  {
   "cell_type": "markdown",
   "id": "82a5cc70-88bf-4f3c-9dad-affdc5ad641a",
   "metadata": {},
   "source": [
    "- Private Access Modifier"
   ]
  },
  {
   "cell_type": "code",
   "execution_count": 42,
   "id": "ddb85ac8-f3b4-4285-b084-aa2a9f566be4",
   "metadata": {},
   "outputs": [
    {
     "name": "stdout",
     "output_type": "stream",
     "text": [
      "['_Student__display', '_Student__name', '_Student__roll', '__class__', '__delattr__', '__dict__', '__dir__', '__doc__', '__eq__', '__format__', '__ge__', '__getattribute__', '__getstate__', '__gt__', '__hash__', '__init__', '__init_subclass__', '__le__', '__lt__', '__module__', '__ne__', '__new__', '__reduce__', '__reduce_ex__', '__repr__', '__setattr__', '__sizeof__', '__str__', '__subclasshook__', '__weakref__', 'display']\n"
     ]
    },
    {
     "data": {
      "text/plain": [
       "'Chan'"
      ]
     },
     "execution_count": 42,
     "metadata": {},
     "output_type": "execute_result"
    }
   ],
   "source": [
    "# parent class\n",
    "class Student:\n",
    "  # private attributes\n",
    "  def __init__(self,name,roll):\n",
    "    self.__name=name\n",
    "    self.__roll=roll\n",
    "\n",
    "  def __display(self):\n",
    "    print(f\" Name is {self.__name} and roll number is {self.__roll}\")\n",
    "\n",
    "  def display(self):\n",
    "    self.__display()\n",
    "\n",
    "student=Student(\"Chan\",123)\n",
    "print(dir(student))\n",
    "# student.Student__name              # op: Error - AttributeError: 'Student' object has no attribute 'Student__name'\n",
    "student._Student__name"
   ]
  },
  {
   "cell_type": "code",
   "execution_count": 43,
   "id": "76f6af41-cb08-4d84-b7ea-950026cb44c0",
   "metadata": {},
   "outputs": [
    {
     "data": {
      "text/plain": [
       "['_Student__display',\n",
       " '_Student__name',\n",
       " '_Student__roll',\n",
       " '__class__',\n",
       " '__delattr__',\n",
       " '__dict__',\n",
       " '__dir__',\n",
       " '__doc__',\n",
       " '__eq__',\n",
       " '__format__',\n",
       " '__ge__',\n",
       " '__getattribute__',\n",
       " '__getstate__',\n",
       " '__gt__',\n",
       " '__hash__',\n",
       " '__init__',\n",
       " '__init_subclass__',\n",
       " '__le__',\n",
       " '__lt__',\n",
       " '__module__',\n",
       " '__ne__',\n",
       " '__new__',\n",
       " '__reduce__',\n",
       " '__reduce_ex__',\n",
       " '__repr__',\n",
       " '__setattr__',\n",
       " '__sizeof__',\n",
       " '__str__',\n",
       " '__subclasshook__',\n",
       " '__weakref__',\n",
       " 'display',\n",
       " 'subject']"
      ]
     },
     "execution_count": 43,
     "metadata": {},
     "output_type": "execute_result"
    }
   ],
   "source": [
    "class Genius(Student):\n",
    "  def __init__(self,name,roll,subject):\n",
    "    super().__init__(name,roll)\n",
    "    self.subject=subject\n",
    "\n",
    "genius=Genius(\"chan\",123,'AI')\n",
    "dir(genius)"
   ]
  },
  {
   "cell_type": "markdown",
   "id": "f5543493-a698-40bb-9442-97056f4a3823",
   "metadata": {},
   "source": [
    "--"
   ]
  },
  {
   "cell_type": "markdown",
   "id": "6705a20e-c6fd-412a-98c7-4bb7a176049d",
   "metadata": {},
   "source": [
    "POLYMORPHISM"
   ]
  },
  {
   "cell_type": "code",
   "execution_count": 7,
   "id": "491ec7fb-984f-4041-87a4-b78326d79e99",
   "metadata": {},
   "outputs": [],
   "source": [
    "# Method with the same name but different definition\n",
    "\n",
    "class Animal():\n",
    "    def __init__(self,name):\n",
    "        self.name=name\n",
    "\n",
    "    def make_sound(self):\n",
    "        pass\n",
    "\n",
    "class Dog(Animal):\n",
    "    def makesound(self):\n",
    "        return 'woof'\n",
    "\n",
    "class Cat(Animal):\n",
    "    def makesound(self):\n",
    "        return 'Meow'"
   ]
  },
  {
   "cell_type": "code",
   "execution_count": 8,
   "id": "e8e64b2d-88c1-49af-9cf2-4ed6a71ff93d",
   "metadata": {},
   "outputs": [
    {
     "data": {
      "text/plain": [
       "'Meow'"
      ]
     },
     "execution_count": 8,
     "metadata": {},
     "output_type": "execute_result"
    }
   ],
   "source": [
    "cat=Cat('Tom')\n",
    "cat.makesound()"
   ]
  },
  {
   "cell_type": "code",
   "execution_count": 9,
   "id": "df589ea1-f7fa-47eb-8f04-e0a9bc83f11e",
   "metadata": {},
   "outputs": [
    {
     "data": {
      "text/plain": [
       "'woof'"
      ]
     },
     "execution_count": 9,
     "metadata": {},
     "output_type": "execute_result"
    }
   ],
   "source": [
    "dog=Dog(\"Scooby\")\n",
    "dog.makesound()"
   ]
  },
  {
   "cell_type": "code",
   "execution_count": null,
   "id": "d24114e0-7977-4144-91f6-870a08d917f3",
   "metadata": {},
   "outputs": [],
   "source": []
  }
 ],
 "metadata": {
  "kernelspec": {
   "display_name": "Python 3 (ipykernel)",
   "language": "python",
   "name": "python3"
  },
  "language_info": {
   "codemirror_mode": {
    "name": "ipython",
    "version": 3
   },
   "file_extension": ".py",
   "mimetype": "text/x-python",
   "name": "python",
   "nbconvert_exporter": "python",
   "pygments_lexer": "ipython3",
   "version": "3.12.2"
  }
 },
 "nbformat": 4,
 "nbformat_minor": 5
}
