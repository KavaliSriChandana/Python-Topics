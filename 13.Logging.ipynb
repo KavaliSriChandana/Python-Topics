{
 "cells": [
  {
   "cell_type": "code",
   "execution_count": null,
   "id": "bd01ba5e-c07a-4670-9012-b3633d46ec1c",
   "metadata": {},
   "outputs": [],
   "source": [
    "\"\"\"\n",
    "Logging\n",
    "\n",
    "Logging is a technique for monitoring events that take place when some software is in use.\n",
    "For the creation, operation, and debugging of software, logging is crucial.\n",
    "There are very little odds that you would find the source of the issue if your programme fails and you don't have any logging records.\n",
    "Additionally, it will take a lot of time to identify the cause.\n",
    "\n",
    "\"\"\""
   ]
  },
  {
   "cell_type": "code",
   "execution_count": null,
   "id": "64a2b64c-3a96-4bac-ade7-038015a02df0",
   "metadata": {},
   "outputs": [],
   "source": [
    "# first import the logging library\n",
    "import logging\n",
    "\n",
    "\"\"\" In the code above, we first import the logging module, then we call the \n",
    "    basicConfig method to configure the logging. \n",
    "    \n",
    "    We set the level to DEBUG, which means that all logs of level \n",
    "    DEBUG and above will be tracked.\"\"\"\n",
    "\n",
    "logging.basicConfig(level=logging.DEBUG)\n",
    "\n",
    "# Logging Level: severity of the event being logged\n",
    "# Least severe to most severe\n",
    "\n",
    "DEBUG: Detailed information, typically of interest only when diagnosing problems.\n",
    "logging.debug('This is a debug message')\n",
    "\n",
    "INFO: Confirmation that things are working as expected.\n",
    "logging.info('This is an info message')\n",
    "\n",
    "WARNING: An indication that something unexpected happened, or may happen in the future (e.g. ‘disk space low’). The software is still working as expected.\n",
    "logging.warning('This is a warning message')\n",
    "\n",
    "ERROR: More serious problem that prevented the software from performing a function.\n",
    "logging.error('This is an error message')\n",
    "\n",
    "CRITICAL: A very serious error, indicating that the program itself may be unable to continue running.\n",
    "logging.critical('This is a critical message')"
   ]
  },
  {
   "cell_type": "code",
   "execution_count": 1,
   "id": "a3eab600-a02c-4b65-b051-a147208722dc",
   "metadata": {},
   "outputs": [
    {
     "name": "stderr",
     "output_type": "stream",
     "text": [
      "DEBUG:root:variables are 4 and 6\n"
     ]
    },
    {
     "data": {
      "text/plain": [
       "10"
      ]
     },
     "execution_count": 1,
     "metadata": {},
     "output_type": "execute_result"
    }
   ],
   "source": [
    "import logging\n",
    "logging.basicConfig(level=logging.DEBUG)\n",
    "\n",
    "def add(x,y):\n",
    "    logging.debug('variables are %s and %s', x , y)                # %s is the string place holder\n",
    "    return(x+y)\n",
    "add(4,6)"
   ]
  },
  {
   "cell_type": "code",
   "execution_count": 2,
   "id": "b99cd11e-0b36-4578-bb24-1aac6a5b4164",
   "metadata": {},
   "outputs": [
    {
     "name": "stderr",
     "output_type": "stream",
     "text": [
      "INFO:root:User name is Star\n"
     ]
    }
   ],
   "source": [
    "import logging\n",
    "logging.basicConfig(level=logging.info)\n",
    "\n",
    "def login(user):\n",
    "    logging.info('User name is %s', user)              \n",
    "    \n",
    "login('Star')"
   ]
  },
  {
   "cell_type": "code",
   "execution_count": 16,
   "id": "682604b2-16b2-4464-a3bf-0c16c1c1a277",
   "metadata": {},
   "outputs": [
    {
     "name": "stderr",
     "output_type": "stream",
     "text": [
      "WARNING:root:Amount is lower than Minimum balance, your balance is 900\n"
     ]
    }
   ],
   "source": [
    "import logging\n",
    "logging.basicConfig(level=logging.WARNING)\n",
    "\n",
    "def balance(amount):\n",
    "    if amount < 1000:\n",
    "        logging.warning('Amount is lower than Minimum balance, your balance is %s', amount)\n",
    "        \n",
    "balance(900)"
   ]
  },
  {
   "cell_type": "code",
   "execution_count": 15,
   "id": "824fd8bd-d021-45be-a840-21cf5bb744c9",
   "metadata": {},
   "outputs": [
    {
     "name": "stderr",
     "output_type": "stream",
     "text": [
      "ERROR:root:You are trying to divide by zero, which is not allowed\n"
     ]
    }
   ],
   "source": [
    "import logging\n",
    "logging.basicConfig(level=logging.ERROR)\n",
    "\n",
    "def LetUsDivide(n, d):\n",
    "    try:\n",
    "        result = n / d\n",
    "    except ZeroDivisionError:\n",
    "        logging.error('You are trying to divide by zero, which is not allowed')\n",
    "    else:\n",
    "        return result\n",
    "\n",
    "LetUsDivide(4, 0)"
   ]
  },
  {
   "cell_type": "code",
   "execution_count": 17,
   "id": "1f501980-74da-4272-abde-559beda8613c",
   "metadata": {},
   "outputs": [
    {
     "name": "stderr",
     "output_type": "stream",
     "text": [
      "CRITICAL:root:System failure: You need to handle the issue now\n"
     ]
    }
   ],
   "source": [
    "import logging\n",
    "\n",
    "logging.basicConfig(level=logging.CRITICAL)\n",
    "\n",
    "def LetUsCheckSystem(sys):\n",
    "    if sys != 'OK':\n",
    "        logging.critical('System failure: %s', sys)\n",
    "\n",
    "LetUsCheckSystem('You need to handle the issue now')"
   ]
  },
  {
   "cell_type": "code",
   "execution_count": 22,
   "id": "4b4a8cdf-1c18-45ec-a63c-9b5bc72e55cb",
   "metadata": {},
   "outputs": [
    {
     "name": "stdout",
     "output_type": "stream",
     "text": [
      "C:\\Users\\ksrichandana\\.jupyter\n"
     ]
    }
   ],
   "source": [
    "# For getting the path\n",
    "\n",
    "import os\n",
    "print(os.getcwd())"
   ]
  },
  {
   "cell_type": "code",
   "execution_count": null,
   "id": "4265e5ef-6274-4225-a688-6425deba9876",
   "metadata": {},
   "outputs": [],
   "source": [
    "# Save to a file\n",
    "\n",
    "import os\n",
    "\n",
    "# Specify the directory and file\n",
    "dir_path = r'C:\\Users\\Dell\\Desktop\\June\\Latest\\iNeuron\\Sessions\\17_18June2023'\n",
    "log_file = 'system.txt'                          # this file name can be anything that we want to save\n",
    "full_path = os.path.join(dir_path, log_file)\n",
    "\n",
    "# Check if the directory exists and create it if necessary\n",
    "os.makedirs(dir_path, exist_ok=True)\n",
    "\n",
    "# Try writing a test message to the file\n",
    "with open(full_path, 'w') as f:\n",
    "    f.write('This is a test message')"
   ]
  },
  {
   "cell_type": "code",
   "execution_count": null,
   "id": "64d38b19-c99b-4902-97fd-813e319db05a",
   "metadata": {},
   "outputs": [],
   "source": [
    "import os\n",
    "import logging\n",
    "\n",
    "# Specify the directory and file\n",
    "dir_path = r'C:\\Users\\Dell\\Desktop\\June\\Latest\\iNeuron\\Sessions\\17_18June2023'\n",
    "log_file = 'system.txt'\n",
    "full_path = os.path.join(dir_path, log_file)\n",
    "\n",
    "# Check if the directory exists and create it if necessary\n",
    "os.makedirs(dir_path, exist_ok=True)\n",
    "\n",
    "# Set up logging\n",
    "# Get a logger instance (this will fetch the root logger)\n",
    "logger = logging.getLogger()\n",
    "\n",
    "# Set the level of the logger to CRITICAL\n",
    "# This means it will handle events of level CRITICAL and above\n",
    "logger.setLevel(logging.CRITICAL)\n",
    "\n",
    "# Create a FileHandler instance to write logs to a file\n",
    "handler = logging.FileHandler(full_path)\n",
    "\n",
    "# Set the format of the logs using a Formatter\n",
    "# This format includes the log timestamp, log level and log message\n",
    "handler.setFormatter(logging.Formatter('%(asctime)s:%(levelname)s:%(message)s'))\n",
    "\n",
    "# Add the handler to the logger\n",
    "# This connects the logger to the handler so that logs get written to the file\n",
    "logger.addHandler(handler)\n",
    "\n",
    "\n",
    "def LetUsCheckSystem(sys):\n",
    "    if sys != 'OK':\n",
    "        logging.critical('System failure: %s', sys)\n",
    "\n",
    "LetUsCheckSystem('You need to handle the issue now')\n",
    "handler.close()"
   ]
  },
  {
   "cell_type": "code",
   "execution_count": null,
   "id": "93b4f3c7-7958-4010-8cf4-ad452c1a44a6",
   "metadata": {},
   "outputs": [],
   "source": [
    "import pdb\n",
    "\n",
    "def addition(a, b):\n",
    "    pdb.set_trace()  # Set a breakpoint here\n",
    "    result = a + b\n",
    "    return result\n",
    "\n",
    "print(addition(5, 7))"
   ]
  }
 ],
 "metadata": {
  "kernelspec": {
   "display_name": "Python 3 (ipykernel)",
   "language": "python",
   "name": "python3"
  },
  "language_info": {
   "codemirror_mode": {
    "name": "ipython",
    "version": 3
   },
   "file_extension": ".py",
   "mimetype": "text/x-python",
   "name": "python",
   "nbconvert_exporter": "python",
   "pygments_lexer": "ipython3",
   "version": "3.12.2"
  }
 },
 "nbformat": 4,
 "nbformat_minor": 5
}
