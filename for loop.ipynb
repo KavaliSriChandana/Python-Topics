{
 "cells": [
  {
   "cell_type": "code",
   "execution_count": 3,
   "id": "deba8943-74c2-4739-a5a9-3d6ac871bf46",
   "metadata": {},
   "outputs": [
    {
     "name": "stdout",
     "output_type": "stream",
     "text": [
      "0\n",
      "1\n",
      "2\n",
      "3\n",
      "4\n"
     ]
    }
   ],
   "source": [
    "for i in range(5):                   # range is a function that generates sequence of numbers\n",
    "    print(i)                         # i1range= 0, i2=1, i3=2, i4=3, i5=4"
   ]
  },
  {
   "cell_type": "code",
   "execution_count": 4,
   "id": "c9ba9dbc-44c8-46b2-86b1-c031c4f2127f",
   "metadata": {},
   "outputs": [
    {
     "name": "stdout",
     "output_type": "stream",
     "text": [
      "5\n",
      "6\n",
      "7\n",
      "8\n"
     ]
    }
   ],
   "source": [
    "for i in range(5,9):\n",
    "    print(i)"
   ]
  },
  {
   "cell_type": "code",
   "execution_count": 5,
   "id": "5714a6f3-3b52-44b6-bd1f-308bf369eb59",
   "metadata": {},
   "outputs": [
    {
     "name": "stdout",
     "output_type": "stream",
     "text": [
      "1\n",
      "3\n",
      "5\n",
      "7\n",
      "9\n"
     ]
    }
   ],
   "source": [
    "# There are 3 parameters in range: start, stop, step\n",
    "for i in range(1,10,2):\n",
    "    print(i)"
   ]
  },
  {
   "cell_type": "code",
   "execution_count": 6,
   "id": "d1ae7cf2-b191-4e6e-8277-5807b54cb33c",
   "metadata": {},
   "outputs": [
    {
     "name": "stdout",
     "output_type": "stream",
     "text": [
      "banana\n",
      "apple\n",
      "mango\n",
      "grapes\n"
     ]
    }
   ],
   "source": [
    "# Accessing list with for loop\n",
    "list= [\"banana\", \"apple\",\"mango\",\"grapes\"]\n",
    "for fruit in list:             # fruit = i i.e index\n",
    "    print(fruit)"
   ]
  },
  {
   "cell_type": "code",
   "execution_count": 7,
   "id": "a429326e-bf72-478f-a572-06abceae10b6",
   "metadata": {},
   "outputs": [
    {
     "name": "stdout",
     "output_type": "stream",
     "text": [
      "Ind\n",
      "Ger\n",
      "UK\n",
      "USA\n",
      "4\n"
     ]
    }
   ],
   "source": [
    "country=[\"Ind\",\"Ger\",\"UK\",\"USA\"]\n",
    "for index in range(len(country)):\n",
    "    print(country[index])\n",
    "print(len(country))"
   ]
  },
  {
   "cell_type": "code",
   "execution_count": null,
   "id": "ddd72e7e-c831-47ad-bf9e-a9f5a905c980",
   "metadata": {},
   "outputs": [],
   "source": [
    "# pattern printing using nested loops\n",
    "\n",
    "rows=4\n",
    "for i in range(rows):\n",
    "    for j in range(i+1):\n",
    "        print(\"*\",end=\" \")\n",
    "    print()                  # empty print is forcing the next iteration to new line\n",
    "# i+1\n",
    "# 0+1\n",
    "# 1+1\n",
    "# 2+1\n",
    "# 3+1\n",
    "\n",
    "\"\"\"\n",
    "op:\n",
    "* \n",
    "* * \n",
    "* * * \n",
    "* * * * \n",
    "\n",
    "This below script will output a pattern of asterisks as follows:\n",
    "*\n",
    "* *\n",
    "* * *\n",
    "* * * *\n",
    "* * * * *\n",
    "\n",
    "-> The outer loop controls the number of rows\n",
    "\n",
    "for i in range(5):\n",
    "    -> The inner loop controls the number of asterisks (*) in each row\n",
    "    for j in range(i+1):\n",
    "        -> Print an asterisk, and with 'end' parameter we can avoid new line after each print statement\n",
    "        print('*', end=' ')\n",
    "    -> After each row, print a newline to move to the next row\n",
    "    print()\n",
    "\"\"\""
   ]
  },
  {
   "cell_type": "code",
   "execution_count": 9,
   "id": "7d54f824-784e-4de8-8793-2e15c6d5a3b4",
   "metadata": {},
   "outputs": [
    {
     "name": "stdout",
     "output_type": "stream",
     "text": [
      "16 16 8 16 8 4 16 8 4 2 "
     ]
    }
   ],
   "source": [
    "# Print follwoing pattern:\n",
    "# Pattern\n",
    "# 16\n",
    "# 16 8\n",
    "# 16 8 4\n",
    "# 16 8 4 2\n",
    "# Initial number is 16, and we want to print four lines.\n",
    "\n",
    "initial_number = 16\n",
    "# The outer loop controls the number of lines.\n",
    "for i in range(4):\n",
    "    num=initial_number\n",
    "    # The inner loop controls the numbers on each line.\n",
    "    # For each line, we print the numbers by successively halving.\n",
    "    for j in range (i+1):\n",
    "        # The print function prints the current number followed by a space.\n",
    "        print(num, end=\" \")\n",
    "        # Update the number by halving it\n",
    "        num//=2\n",
    "    # After all the numbers on a line have been printed, we print a newline character"
   ]
  },
  {
   "cell_type": "code",
   "execution_count": 10,
   "id": "241ec15d-fe5c-4842-aee5-a0631c6f5538",
   "metadata": {},
   "outputs": [
    {
     "name": "stdout",
     "output_type": "stream",
     "text": [
      "1\t2\t3\t4\t5\t\n",
      "2\t4\t6\t8\t10\t\n",
      "3\t6\t9\t12\t15\t\n",
      "4\t8\t12\t16\t20\t\n",
      "5\t10\t15\t20\t25\t\n"
     ]
    }
   ],
   "source": [
    "# 1 2 3 4 5\n",
    "# 2 4 6 8 10\n",
    "# 3 6 9 12 15\n",
    "# 4 8 12 16 20\n",
    "# 5 10 15 20 25\n",
    "# The outer loop iterates over the first 5 numbers\n",
    "\n",
    "for i in range(1, 6):\n",
    "    # For each number 'i', the inner loop iterates over the first 5 numbers as well\n",
    "    for j in range(1, 6):\n",
    "        # Print the product of 'i' and 'j', followed by a tab space\n",
    "        print(i * j, end='\\t')\n",
    "    # After each row of the table, print a newline to move to the next row\n",
    "    print()"
   ]
  },
  {
   "cell_type": "code",
   "execution_count": 11,
   "id": "fb82aa76-207a-4e94-bfa7-13090603175d",
   "metadata": {},
   "outputs": [
    {
     "name": "stdout",
     "output_type": "stream",
     "text": [
      "3 is divisible by 3\n",
      "6 is divisible by 3\n",
      "9 is divisible by 3\n"
     ]
    }
   ],
   "source": [
    "# Given a list of numbers, we want to check if a number is divisible by 3 and print it if it is.\n",
    "# Here's our list\n",
    "\n",
    "numbers = [1, 2, 3, 4, 5, 6, 7, 8, 9]\n",
    "\n",
    "# The loop goes through each number in the list\n",
    "for num in numbers:\n",
    "    # The if statement checks if the number is divisible by 3\n",
    "    if num % 3 == 0:\n",
    "        # If the number is divisible by 3, print it\n",
    "        print(f\"{num} is divisible by 3\")"
   ]
  },
  {
   "cell_type": "code",
   "execution_count": 12,
   "id": "2467a436-bfe0-4a37-bad4-a04b8ade3be7",
   "metadata": {},
   "outputs": [
    {
     "name": "stdout",
     "output_type": "stream",
     "text": [
      "['John', 'SARAH', 'Alice', 'Bob', 'CHARLIE']\n"
     ]
    }
   ],
   "source": [
    "# Here's our list\n",
    "names = ['john', 'SARAH', 'alice', 'bob', 'CHARLIE']\n",
    "\n",
    "# The loop goes through each name in the list\n",
    "for i in range(len(names)):\n",
    "    # The if statement checks if the name does not start with a capital letter\n",
    "    if not names[i][0].isupper():\n",
    "        # If the name doesn't start with a capital letter, capitalize it\n",
    "        names[i] = names[i].capitalize()\n",
    "        \n",
    "# Print the updated names list\n",
    "print(names)"
   ]
  },
  {
   "cell_type": "code",
   "execution_count": 21,
   "id": "dc5bbf2b-e3fe-41ea-9d5f-e22e23201012",
   "metadata": {},
   "outputs": [
    {
     "name": "stdout",
     "output_type": "stream",
     "text": [
      "add of %sum + %num =  1\n",
      "add of %sum + %num =  3\n",
      "add of %sum + %num =  6\n",
      "add of %sum + %num =  10\n",
      "add of %sum + %num =  15\n",
      "add of %sum + %num =  21\n",
      "add of %sum + %num =  28\n",
      "add of %sum + %num =  36\n",
      "add of %sum + %num =  45\n",
      "add of %sum + %num =  55\n",
      "Total is :  55\n"
     ]
    }
   ],
   "source": [
    "list=[1,2,3,4,5,6,7,8,9,10]\n",
    "sum=0\n",
    "for num in list:\n",
    "    sum=sum+num    # sum += num\n",
    "    print(\"add of \",%sum, \" +\", %num\" = \",sum)\n",
    "print(\"Total is : \",sum)"
   ]
  },
  {
   "cell_type": "code",
   "execution_count": null,
   "id": "6bae4e1b-f329-4d34-a96c-474576ed88f4",
   "metadata": {},
   "outputs": [],
   "source": [
    "# Tuples have a special quality when it comes to for loops. If you are iterating through a sequence that contains tuples, the item can actually be the tuple itself, this is an example of tuple unpacking. During the for loop we will be unpacking the tuple inside of a sequence and we can access the individual items inside that tuple!\n"
   ]
  }
 ],
 "metadata": {
  "kernelspec": {
   "display_name": "Python 3 (ipykernel)",
   "language": "python",
   "name": "python3"
  },
  "language_info": {
   "codemirror_mode": {
    "name": "ipython",
    "version": 3
   },
   "file_extension": ".py",
   "mimetype": "text/x-python",
   "name": "python",
   "nbconvert_exporter": "python",
   "pygments_lexer": "ipython3",
   "version": "3.12.2"
  }
 },
 "nbformat": 4,
 "nbformat_minor": 5
}
