{
 "cells": [
  {
   "cell_type": "markdown",
   "id": "16b5f6ee-1cdc-4d7a-b029-bbeef6db214b",
   "metadata": {},
   "source": [
    "CLASS"
   ]
  },
  {
   "cell_type": "code",
   "execution_count": 123,
   "id": "8d940122-efa4-42ca-a5ec-8dbbc64578d0",
   "metadata": {},
   "outputs": [
    {
     "name": "stdout",
     "output_type": "stream",
     "text": [
      "<class '__main__.person'>\n",
      "<__main__.person object at 0x000001EBCF800CE0>\n"
     ]
    }
   ],
   "source": [
    "class person:\n",
    "    pass               # Creating an empty class with no attributes\n",
    "person1=person()       # Person1 is an obj or instance\n",
    "print(type(person1))\n",
    "print(person1)         # person1 is an obj of person class and stored at the adress"
   ]
  },
  {
   "cell_type": "code",
   "execution_count": 124,
   "id": "ec8a613b-91b2-4603-81c5-61524a0b2928",
   "metadata": {},
   "outputs": [],
   "source": [
    "person1.nme='chandana'\n",
    "person1.firstname='kavali'"
   ]
  },
  {
   "cell_type": "code",
   "execution_count": 125,
   "id": "02c94c92-d942-4993-9e7f-7b2abdfefe19",
   "metadata": {},
   "outputs": [
    {
     "data": {
      "text/plain": [
       "['__class__',\n",
       " '__delattr__',\n",
       " '__dict__',\n",
       " '__dir__',\n",
       " '__doc__',\n",
       " '__eq__',\n",
       " '__format__',\n",
       " '__ge__',\n",
       " '__getattribute__',\n",
       " '__getstate__',\n",
       " '__gt__',\n",
       " '__hash__',\n",
       " '__init__',\n",
       " '__init_subclass__',\n",
       " '__le__',\n",
       " '__lt__',\n",
       " '__module__',\n",
       " '__ne__',\n",
       " '__new__',\n",
       " '__reduce__',\n",
       " '__reduce_ex__',\n",
       " '__repr__',\n",
       " '__setattr__',\n",
       " '__sizeof__',\n",
       " '__str__',\n",
       " '__subclasshook__',\n",
       " '__weakref__',\n",
       " 'firstname',\n",
       " 'nme']"
      ]
     },
     "execution_count": 125,
     "metadata": {},
     "output_type": "execute_result"
    }
   ],
   "source": [
    "dir(person1)"
   ]
  },
  {
   "cell_type": "code",
   "execution_count": 126,
   "id": "41309090-d129-4529-a092-1c9bcb80ae8b",
   "metadata": {},
   "outputs": [
    {
     "name": "stdout",
     "output_type": "stream",
     "text": [
      "The name is tom and the familyname is crusie\n"
     ]
    },
    {
     "data": {
      "text/plain": [
       "'Hello how are you Krish'"
      ]
     },
     "execution_count": 126,
     "metadata": {},
     "output_type": "execute_result"
    }
   ],
   "source": [
    "class person:\n",
    "    def __init__(self,name1,familyname1):    # self is a keyword and it can be anyword, init is a constructor\n",
    "        self.name=name1\n",
    "        self.familyname=familyname1\n",
    "        \"\"\"\n",
    "        print(person1)                               # op: <__main__.person object at 0x000001EBCF578620>\n",
    "        person1=person('chandana','kavali')\n",
    "        print(person1.name)                           # op: chandana\n",
    "        person2=person('tom','kim')\n",
    "        print(person2.name)                           # op: tom\n",
    "        person2.familyname                            # op: kim'\n",
    "        \"\"\"\n",
    "    def __str__(self):\n",
    "        return \"The name is {} and the familyname is {}\".format(self.name, self.familyname)  # {}- place holders\n",
    "        #(or) return f\"The name is {self.name} and last name is {self.last_name}\"\n",
    "\n",
    "person5=person(\"tom\",\"crusie\")\n",
    "print(person5)\n",
    "\n",
    "\"Hello how are you {}\".format(\"Krish\")    # eg for .format() and place holders"
   ]
  },
  {
   "cell_type": "code",
   "execution_count": 127,
   "id": "2f88d089-c0cc-44ef-a618-6e759951a593",
   "metadata": {},
   "outputs": [
    {
     "name": "stdout",
     "output_type": "stream",
     "text": [
      "1234\n"
     ]
    },
    {
     "data": {
      "text/plain": [
       "0"
      ]
     },
     "execution_count": 127,
     "metadata": {},
     "output_type": "execute_result"
    }
   ],
   "source": [
    "## Bank account class and add informatiom like account number,account hoildername and balance\n",
    "\"\"\"\n",
    "class BankAccount:\n",
    "    def __init__(self,accno,holdername,balance):\n",
    "        self.AccountNo=accno\n",
    "        self.HolderName=holdername\n",
    "        self.Balance=balance\n",
    "Acc1=BankAccount(1234,'new',500)\n",
    "print(Acc1.Balance)                    # op: 500 \"\"\"\n",
    "\n",
    "class BankAccount:\n",
    "    def __init__(self,account_number,account_holder,balance=0):\n",
    "        self.account_number=account_number\n",
    "        self.account_holder=account_holder\n",
    "        self.balance=balance\n",
    "        \n",
    "    def deposit(self,deposit):\n",
    "        self.balance=self.balance + deposit\n",
    "        \n",
    "    def withdrawl(self,withdrawl_amt):\n",
    "        if withdrawl_amt <= self.balance:\n",
    "            self.balance=self.balance - withdrawl_amt\n",
    "        else:\n",
    "            print(\"The Balance is less\")\n",
    "    \"\"\"\n",
    "        def widrawal(self, amount):\n",
    "        if amount <= self.balance:\n",
    "            self.balance -= amount\n",
    "            print(f\"Your updated balance is {self.balance}\")\n",
    "        else:\n",
    "            print(\"You do not have sufficient funds\")\n",
    "    \"\"\"\n",
    "            \n",
    "account1=BankAccount(\"1234\",\"Krish Naik\",0)\n",
    "print(account1.account_number)\n",
    "account1.balance"
   ]
  },
  {
   "cell_type": "code",
   "execution_count": 186,
   "id": "2492a145-1f02-409f-880f-23121cfd738a",
   "metadata": {},
   "outputs": [
    {
     "data": {
      "text/plain": [
       "[]"
      ]
     },
     "execution_count": 186,
     "metadata": {},
     "output_type": "execute_result"
    }
   ],
   "source": [
    "# Class representing To Do List\n",
    "\n",
    "class todolist:\n",
    "    def __init__ (self,owner):\n",
    "        self.owner=owner\n",
    "        self.tasks=[]\n",
    "        \n",
    "    def add_task(self,task):\n",
    "        self.tasks.append(task)\n",
    "        \n",
    "    def complete_task(self,task):\n",
    "        if task in self.tasks:\n",
    "            self.tasks.remove(task)\n",
    "            print(f'Task {task}completed')\n",
    "        else:\n",
    "            print(f'Task {task} no found')\n",
    "            \n",
    "    def display_task(self):\n",
    "         print(f\"The todo task of {self.owner}:\")\n",
    "         for task in self.tasks:\n",
    "            print(task)\n",
    "            \n",
    "Chan=todolist(\"Chandana\")\n",
    "Chan.tasks"
   ]
  },
  {
   "cell_type": "code",
   "execution_count": 207,
   "id": "cdc42e97-8b1b-4988-b512-6f0cc235de72",
   "metadata": {},
   "outputs": [
    {
     "name": "stdout",
     "output_type": "stream",
     "text": [
      "My task list:\n",
      "\n",
      "11.15-> class\n",
      "11.0-> tea break\n",
      "1.0-> Lunch\n",
      "Task Lunch\n",
      "class\n",
      "Key does not exist\n",
      "tea break\n",
      "Key does not exist\n",
      "Lunch\n"
     ]
    }
   ],
   "source": [
    "class to_dolist:\n",
    "    def __init__(self):\n",
    "        self.task_list={}\n",
    "        \n",
    "    def add_task(self,task,time):\n",
    "        if task not in self.task_list.items():\n",
    "            self.task_list.update({task:time})\n",
    "        else:\n",
    "            self.task_list[key]=task\n",
    "            self.task_list[time]=time\n",
    "    def display(self):\n",
    "        for key,value in self.task_list.items():\n",
    "            print(f\"{value}-> {key}\")\n",
    "    def remove_task(self,task):\n",
    "        print(\"Task\",task)\n",
    "        for key,value in self.task_list.items():\n",
    "            print(key)\n",
    "            if(task==key):\n",
    "              self.task_list.pop(key)\n",
    "              break\n",
    "            else:\n",
    "              print(\"Key does not exist\")\n",
    "            \n",
    "                \n",
    "print(f\"My task list:\\n\")\n",
    "person1=to_dolist()\n",
    "\n",
    "person1.add_task(\"class\",9.00)\n",
    "person1.add_task(\"tea break\",11.00)\n",
    "person1.add_task(\"class\",11.15)\n",
    "person1.add_task(\"Lunch\",1.00)\n",
    "person1.display()\n",
    "person1.remove_task(\"Lunch\")"
   ]
  },
  {
   "cell_type": "code",
   "execution_count": 187,
   "id": "dd49a5e2-c3ee-4509-9d8b-4526d2f43675",
   "metadata": {},
   "outputs": [
    {
     "data": {
      "text/plain": [
       "['I have to teach at 9am with real wworld examples']"
      ]
     },
     "execution_count": 187,
     "metadata": {},
     "output_type": "execute_result"
    }
   ],
   "source": [
    "Chan.add_task(\"I have to teach at 9am with real wworld examples\")\n",
    "Chan.tasks"
   ]
  },
  {
   "cell_type": "code",
   "execution_count": 188,
   "id": "0ffcb2d6-0fe4-4e68-aabc-e332ccfdbed8",
   "metadata": {},
   "outputs": [
    {
     "name": "stdout",
     "output_type": "stream",
     "text": [
      "The todo task of Chandana:\n",
      "I have to teach at 9am with real wworld examples\n",
      "prepare\n"
     ]
    }
   ],
   "source": [
    "Chan.add_task(\"prepare\")\n",
    "Chan.tasks\n",
    "Chan.display_task()"
   ]
  },
  {
   "cell_type": "code",
   "execution_count": 189,
   "id": "aa69698c-ef56-41dd-90ff-1e914498d188",
   "metadata": {},
   "outputs": [
    {
     "name": "stdout",
     "output_type": "stream",
     "text": [
      "Task preparecompleted\n"
     ]
    },
    {
     "data": {
      "text/plain": [
       "['I have to teach at 9am with real wworld examples']"
      ]
     },
     "execution_count": 189,
     "metadata": {},
     "output_type": "execute_result"
    }
   ],
   "source": [
    "Chan.complete_task('prepare')\n",
    "Chan.tasks"
   ]
  },
  {
   "cell_type": "code",
   "execution_count": 190,
   "id": "d5b050f0-7f24-426c-a92d-456163db43e0",
   "metadata": {},
   "outputs": [
    {
     "data": {
      "text/plain": [
       "['I have to teach at 9am with real wworld examples', 'eat']"
      ]
     },
     "execution_count": 190,
     "metadata": {},
     "output_type": "execute_result"
    }
   ],
   "source": [
    "Chan.add_task(\"eat\")\n",
    "Chan.tasks"
   ]
  },
  {
   "cell_type": "code",
   "execution_count": 191,
   "id": "dde29ae1-bf23-4e16-a7cf-eabda7154bea",
   "metadata": {},
   "outputs": [
    {
     "name": "stdout",
     "output_type": "stream",
     "text": [
      "The todo task of Chandana:\n",
      "I have to teach at 9am with real wworld examples\n",
      "eat\n"
     ]
    }
   ],
   "source": [
    "Chan.display_task()"
   ]
  },
  {
   "cell_type": "code",
   "execution_count": 201,
   "id": "008d1e45-6ae8-4473-9284-089f35bd6ebd",
   "metadata": {},
   "outputs": [
    {
     "name": "stdout",
     "output_type": "stream",
     "text": [
      "TATA\n",
      "The TATA EV Black is starting \n"
     ]
    }
   ],
   "source": [
    "# Class representing Car\n",
    "\n",
    "class Car:\n",
    "    def __init__ (self,brand,model,color):\n",
    "        self.brand= brand\n",
    "        self.model= model\n",
    "        self.color= color\n",
    "\n",
    "    def start_engine(self):\n",
    "         print(f'The {self.brand} {self.model} {self.color} is starting ')\n",
    "\n",
    "    def stop_engine(self):\n",
    "         print(f'The {self.brand} {self.model} {self.color} is stop ')\n",
    "         \n",
    "\n",
    "car1=Car(\"TATA\",\"EV\",\"Black\")\n",
    "print(car1.brand)\n",
    "car1.start_engine()"
   ]
  },
  {
   "cell_type": "code",
   "execution_count": 206,
   "id": "057dac3c-7127-4755-af64-d9d805dee0af",
   "metadata": {},
   "outputs": [
    {
     "name": "stdout",
     "output_type": "stream",
     "text": [
      "calling 98947372 with Samsung and Note 3\n"
     ]
    }
   ],
   "source": [
    "# Class representing Mobile\n",
    "\n",
    "class Mobile:\n",
    "    def __init__ (self,brand,model,processor,price):\n",
    "        self.brand= brand\n",
    "        self.model= model\n",
    "        self.processor= processor\n",
    "        self.price= price\n",
    "        \n",
    "    def makecall(self,number):  # number is a function parameter\n",
    "        print(f\"calling {number} with {self.brand} and {self.model}\")\n",
    "        \n",
    "    def send_messages(self,number,message):\n",
    "        print(f\"sending message to {number} : {message}\")\n",
    "    \n",
    "    def end_call(self,number):\n",
    "        print(f\"Call is disconnected with {number}\")\n",
    "\n",
    "samsung=Mobile(\"Samsung\",\"Note 3\",\"8 gen 2\",125000)\n",
    "samsung.makecall(98947372)"
   ]
  },
  {
   "cell_type": "code",
   "execution_count": null,
   "id": "669c8fb5-5b81-40f9-87e5-92c4b88665eb",
   "metadata": {},
   "outputs": [],
   "source": [
    "# Class representing Laptop\n",
    "\n",
    "class Laptop :\n",
    "    def __init__(self,model,brand):\n",
    "        self.model = model\n",
    "        self.brand = brand\n",
    "        \n",
    "    def power_on(self) :\n",
    "        print(f\"This {self.brand} {self.model} is now switched on\")\n",
    "        \n",
    "    def power_off(self) :\n",
    "        print(f\"This {self.brand} {self.model} is now switched off\")"
   ]
  },
  {
   "cell_type": "code",
   "execution_count": null,
   "id": "8cd85b4e-fed4-4168-8c84-cc92e8c5da4d",
   "metadata": {},
   "outputs": [],
   "source": []
  }
 ],
 "metadata": {
  "kernelspec": {
   "display_name": "Python 3 (ipykernel)",
   "language": "python",
   "name": "python3"
  },
  "language_info": {
   "codemirror_mode": {
    "name": "ipython",
    "version": 3
   },
   "file_extension": ".py",
   "mimetype": "text/x-python",
   "name": "python",
   "nbconvert_exporter": "python",
   "pygments_lexer": "ipython3",
   "version": "3.12.2"
  }
 },
 "nbformat": 4,
 "nbformat_minor": 5
}
