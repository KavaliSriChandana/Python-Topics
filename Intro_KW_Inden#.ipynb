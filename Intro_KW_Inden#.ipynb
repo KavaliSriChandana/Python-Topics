{
 "cells": [
  {
   "cell_type": "code",
   "execution_count": null,
   "id": "dadfc7fa-a71d-433d-b233-497cb5978a63",
   "metadata": {},
   "outputs": [],
   "source": [
    "\"\"\" \n",
    "-What is Python?\n",
    "Python is a popular programming language. It was created by Guido van Rossum, and released in 1991.\n",
    "\n",
    "Python is a high-level, interpreted, interactive and object-oriented scripting language.\n",
    "Python is designed to be highly readable.\n",
    "It uses English keywords frequently where as other languages use punctuation, and has fewer syntactical constructions than other languages.\n",
    "\n",
    "Python is Interpreted − Python is processed at runtime by the interpreter. You do not need to compile your program before executing it. This is similar to PERL and PHP.\n",
    "\n",
    "Python is Interactive − You can actually sit at a Python prompt and interact with the interpreter directly to write your programs.\n",
    "\n",
    "Python is Object-Oriented − Python supports Object-Oriented style or technique of programming that encapsulates code within objects.\n",
    "\n",
    "Python is a Beginner's Language\n",
    "\n",
    "-Interpreter Works in interactive and scripted mode. Python code is executed by one statement at a time method.\n",
    "Python interpreter has two components. The translator checks the statement for syntax. If found correct, it generates an intermediate byte code.\n",
    "There is a Python virtual machine which then converts the byte code in native binary and executes it.\n",
    "\n",
    "-It is used for:\n",
    "web development (server-side),\n",
    "software development,\n",
    "mathematics,\n",
    "system scripting.\n",
    "\n",
    "Python is a case sensitive\n",
    "\n",
    "\"\"\""
   ]
  },
  {
   "cell_type": "code",
   "execution_count": null,
   "id": "6a422436-2447-4a25-b06a-45c4e5435b2f",
   "metadata": {},
   "outputs": [],
   "source": [
    "\"\"\"\n",
    "-What can Python do?\n",
    "\n",
    "Python can be used on a server to create web applications.\n",
    "Python can be used alongside software to create workflows.\n",
    "Python can connect to database systems. It can also read and modify files.\n",
    "Python can be used to handle big data and perform complex mathematics.\n",
    "Python can be used for rapid prototyping, or for production-ready software development.\n",
    "\n",
    "\"\"\""
   ]
  },
  {
   "cell_type": "code",
   "execution_count": null,
   "id": "556bda8c-b402-4da1-a07a-0a5cf6515639",
   "metadata": {},
   "outputs": [],
   "source": [
    "\"\"\"\n",
    "-Why Python?\n",
    "\n",
    "Python works on different platforms (Windows, Mac, Linux, Raspberry Pi, etc).\n",
    "Python has a simple syntax similar to the English language.\n",
    "Python has syntax that allows developers to write programs with fewer lines than some other programming languages.\n",
    "Python runs on an interpreter system, meaning that code can be executed as soon as it is written. This means that prototyping can be very quick.\n",
    "Python can be treated in a procedural way, an object-oriented way or a functional way.\n",
    "\n",
    "-Python syntax compared to other languages\n",
    "Python was designed for readability, and has some similarities to the English language with influence from mathematics.\n",
    "Python uses new lines to complete a command, as opposed to other programming languages which often use semicolons or parentheses.\n",
    "Python relies on indentation, using whitespace, to define scope; such as the scope of loops, functions and classes.\n",
    "Other programming languages often use curly-brackets for this purpose\n",
    "\n",
    "\"\"\""
   ]
  },
  {
   "cell_type": "code",
   "execution_count": null,
   "id": "39920c1c-f1a9-4687-b44b-e2b53007cda3",
   "metadata": {},
   "outputs": [],
   "source": [
    "\"\"\"\n",
    "-Python SYNTAX\n",
    "Syntax defines a set of rules that are used to create a Python Program."
   ]
  },
  {
   "cell_type": "code",
   "execution_count": null,
   "id": "5aa52140-3975-4ae4-bf20-a78ce79ff81c",
   "metadata": {},
   "outputs": [],
   "source": [
    "\"\"\"\n",
    "-KEYWORDS\n",
    "Keywords in Python are reserved words that cannot be used as ordinary identifiers.\n",
    "They are used to define the syntax and structure of the Python language.\n",
    "Keywords are immutable.\n",
    "Keywords are case-sensitive\n",
    "\n",
    "\"\"\""
   ]
  },
  {
   "cell_type": "code",
   "execution_count": 2,
   "id": "805b81d3-784a-442d-a984-d7498dc79cb0",
   "metadata": {},
   "outputs": [
    {
     "name": "stdout",
     "output_type": "stream",
     "text": [
      "['False', 'None', 'True', 'and', 'as', 'assert', 'async', 'await', 'break', 'class', 'continue', 'def', 'del', 'elif', 'else', 'except', 'finally', 'for', 'from', 'global', 'if', 'import', 'in', 'is', 'lambda', 'nonlocal', 'not', 'or', 'pass', 'raise', 'return', 'try', 'while', 'with', 'yield']\n"
     ]
    }
   ],
   "source": [
    "#pip install keyword\n",
    "import keyword\n",
    "print(keyword.kwlist)"
   ]
  },
  {
   "cell_type": "code",
   "execution_count": 8,
   "id": "825d232d-b77e-4317-835b-a6a529c336f0",
   "metadata": {},
   "outputs": [
    {
     "ename": "SyntaxError",
     "evalue": "invalid syntax (3963200833.py, line 1)",
     "output_type": "error",
     "traceback": [
      "\u001b[0;36m  Cell \u001b[0;32mIn [8], line 1\u001b[0;36m\u001b[0m\n\u001b[0;31m    if=10\u001b[0m\n\u001b[0m      ^\u001b[0m\n\u001b[0;31mSyntaxError\u001b[0m\u001b[0;31m:\u001b[0m invalid syntax\n"
     ]
    }
   ],
   "source": [
    "if=10"
   ]
  },
  {
   "cell_type": "code",
   "execution_count": 5,
   "id": "919a0ad3-b964-41ed-a5ff-a6f4ad43f05f",
   "metadata": {},
   "outputs": [
    {
     "name": "stdout",
     "output_type": "stream",
     "text": [
      "16 52\n"
     ]
    }
   ],
   "source": [
    "If=52\n",
    "none=16\n",
    "print(none, If)"
   ]
  },
  {
   "cell_type": "code",
   "execution_count": 9,
   "id": "0749a848-2ca8-4ca2-bab2-7dfb996441ca",
   "metadata": {},
   "outputs": [
    {
     "ename": "SyntaxError",
     "evalue": "invalid syntax (138942673.py, line 3)",
     "output_type": "error",
     "traceback": [
      "\u001b[0;36m  Cell \u001b[0;32mIn [9], line 3\u001b[0;36m\u001b[0m\n\u001b[0;31m    class = 10     # 'class' is a reserved keyword\u001b[0m\n\u001b[0m          ^\u001b[0m\n\u001b[0;31mSyntaxError\u001b[0m\u001b[0;31m:\u001b[0m invalid syntax\n"
     ]
    }
   ],
   "source": [
    "# Incorrect use of keywords as variable names\n",
    "\n",
    "class = 10     # 'class' is a reserved keyword\n",
    "return = 5     # 'return' is a reserved keyword\n",
    "if = \"hello\"   # 'if' is a reserved keyword\n",
    "else = 3.14    # 'else' is a reserved keyword\n",
    "\n",
    "print(class, return, if, else)"
   ]
  },
  {
   "cell_type": "code",
   "execution_count": 14,
   "id": "29b8717f-4830-4e70-abff-0ab110b49bc4",
   "metadata": {},
   "outputs": [
    {
     "name": "stdout",
     "output_type": "stream",
     "text": [
      "10 5 hello 3.14\n"
     ]
    }
   ],
   "source": [
    "# Correct use of keywords as variable names\n",
    "\n",
    "class_no = 10     # 'class' is a reserved keyword\n",
    "return_value = 5     # 'return' is a reserved keyword\n",
    "If = \"hello\"   # 'if' is a reserved keyword\n",
    "Else = 3.14    # 'else' is a reserved keyword\n",
    "\n",
    "print(class_no, return_value, If, Else)"
   ]
  }
 ],
 "metadata": {
  "kernelspec": {
   "display_name": "Python 3 (ipykernel)",
   "language": "python",
   "name": "python3"
  },
  "language_info": {
   "codemirror_mode": {
    "name": "ipython",
    "version": 3
   },
   "file_extension": ".py",
   "mimetype": "text/x-python",
   "name": "python",
   "nbconvert_exporter": "python",
   "pygments_lexer": "ipython3",
   "version": "3.10.6"
  }
 },
 "nbformat": 4,
 "nbformat_minor": 5
}
